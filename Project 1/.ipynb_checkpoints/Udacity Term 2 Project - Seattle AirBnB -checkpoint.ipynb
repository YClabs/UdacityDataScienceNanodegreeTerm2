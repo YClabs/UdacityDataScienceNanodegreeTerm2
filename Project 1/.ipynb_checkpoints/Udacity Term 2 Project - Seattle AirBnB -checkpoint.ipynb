{
 "cells": [
  {
   "cell_type": "markdown",
   "metadata": {},
   "source": [
    "# Seattle AirBnB data"
   ]
  },
  {
   "cell_type": "markdown",
   "metadata": {},
   "source": [
    "## Using data to understand the homeowner's market in Seattle\n",
    "\n",
    "I approached the data as if I were a homeowner Seattle. If I were a homeowner in Seattle, my main objective would be to offer a great experience for my guests while making a healthy profit. Hence, I structured my business understanding questions around these objectives. My questions for my analysis are thus as follows: \n",
    "\n",
    "### Business Understanding:\n",
    "1. Can we predict what drives higher ratings?\n",
    "2. When are the most popular times of the year for Seattle home-owners?\n",
    "3. When are the most profitable times of the year for Seattle home-owners?"
   ]
  },
  {
   "cell_type": "markdown",
   "metadata": {},
   "source": [
    "### Data Understanding\n",
    "\n",
    "#### Data Exploration\n",
    "\n",
    "All data was obtained from Kaggle: https://www.kaggle.com/airbnb/seattle/home"
   ]
  },
  {
   "cell_type": "code",
   "execution_count": 48,
   "metadata": {},
   "outputs": [],
   "source": [
    "#import libraries and load data\n",
    "import numpy as np\n",
    "import pandas as pd\n",
    "import matplotlib.pyplot as plt\n",
    "from IPython import display\n",
    "%matplotlib inline\n",
    "\n",
    "listings = pd.read_csv('./Project 1/seattle/listings.csv')\n",
    "calendar = pd.read_csv('./Project 1/seattle/calendar.csv')\n",
    "reviews = pd.read_csv('./Project 1/seattle/reviews.csv')"
   ]
  },
  {
   "cell_type": "code",
   "execution_count": 56,
   "metadata": {},
   "outputs": [
    {
     "name": "stdout",
     "output_type": "stream",
     "text": [
      "['id' 'listing_url' 'scrape_id' 'last_scraped' 'name' 'summary' 'space'\n",
      " 'description' 'experiences_offered' 'neighborhood_overview' 'notes'\n",
      " 'transit' 'thumbnail_url' 'medium_url' 'picture_url' 'xl_picture_url'\n",
      " 'host_id' 'host_url' 'host_name' 'host_since' 'host_location'\n",
      " 'host_about' 'host_response_time' 'host_response_rate'\n",
      " 'host_acceptance_rate' 'host_is_superhost' 'host_thumbnail_url'\n",
      " 'host_picture_url' 'host_neighbourhood' 'host_listings_count'\n",
      " 'host_total_listings_count' 'host_verifications' 'host_has_profile_pic'\n",
      " 'host_identity_verified' 'street' 'neighbourhood'\n",
      " 'neighbourhood_cleansed' 'neighbourhood_group_cleansed' 'city' 'state'\n",
      " 'zipcode' 'market' 'smart_location' 'country_code' 'country' 'latitude'\n",
      " 'longitude' 'is_location_exact' 'property_type' 'room_type'\n",
      " 'accommodates' 'bathrooms' 'bedrooms' 'beds' 'bed_type' 'amenities'\n",
      " 'square_feet' 'price' 'weekly_price' 'monthly_price' 'security_deposit'\n",
      " 'cleaning_fee' 'guests_included' 'extra_people' 'minimum_nights'\n",
      " 'maximum_nights' 'calendar_updated' 'has_availability' 'availability_30'\n",
      " 'availability_60' 'availability_90' 'availability_365'\n",
      " 'calendar_last_scraped' 'number_of_reviews' 'first_review' 'last_review'\n",
      " 'review_scores_rating' 'review_scores_accuracy'\n",
      " 'review_scores_cleanliness' 'review_scores_checkin'\n",
      " 'review_scores_communication' 'review_scores_location'\n",
      " 'review_scores_value' 'requires_license' 'jurisdiction_names'\n",
      " 'instant_bookable' 'cancellation_policy' 'require_guest_profile_picture'\n",
      " 'require_guest_phone_verification' 'calculated_host_listings_count'\n",
      " 'reviews_per_month']\n",
      "['listing_id' 'date' 'available' 'price']\n",
      "['listing_id' 'id' 'date' 'reviewer_id' 'reviewer_name' 'comments']\n"
     ]
    }
   ],
   "source": [
    "#explore columns in datasets\n",
    "print(listings.columns.values)\n",
    "print(calendar.columns.values)\n",
    "print(reviews.columns.values)"
   ]
  },
  {
   "cell_type": "markdown",
   "metadata": {},
   "source": [
    "It appears that all the datasets can be merged by their listing ID. First, check that all columns are variables and rows are individuals."
   ]
  },
  {
   "cell_type": "code",
   "execution_count": 57,
   "metadata": {},
   "outputs": [
    {
     "name": "stdout",
     "output_type": "stream",
     "text": [
      "(3818, 91)\n",
      "(1393570, 4)\n",
      "(84849, 6)\n"
     ]
    }
   ],
   "source": [
    "#check no. of rows and columns\n",
    "print(listings.shape)\n",
    "print(calendar.shape)\n",
    "print(reviews.shape)"
   ]
  },
  {
   "cell_type": "code",
   "execution_count": 51,
   "metadata": {},
   "outputs": [
    {
     "data": {
      "text/plain": [
       "license                             1.000000\n",
       "square_feet                         0.974594\n",
       "monthly_price                       0.602672\n",
       "security_deposit                    0.511262\n",
       "weekly_price                        0.473808\n",
       "notes                               0.420639\n",
       "neighborhood_overview               0.270299\n",
       "cleaning_fee                        0.269775\n",
       "transit                             0.244631\n",
       "host_about                          0.224987\n",
       "host_acceptance_rate                0.202462\n",
       "review_scores_accuracy              0.172342\n",
       "review_scores_checkin               0.172342\n",
       "review_scores_value                 0.171818\n",
       "review_scores_location              0.171556\n",
       "review_scores_cleanliness           0.171032\n",
       "review_scores_communication         0.170508\n",
       "review_scores_rating                0.169460\n",
       "reviews_per_month                   0.164222\n",
       "first_review                        0.164222\n",
       "last_review                         0.164222\n",
       "space                               0.149031\n",
       "host_response_time                  0.136983\n",
       "host_response_rate                  0.136983\n",
       "neighbourhood                       0.108958\n",
       "xl_picture_url                      0.083814\n",
       "thumbnail_url                       0.083814\n",
       "medium_url                          0.083814\n",
       "host_neighbourhood                  0.078575\n",
       "summary                             0.046359\n",
       "                                      ...   \n",
       "availability_60                     0.000000\n",
       "availability_90                     0.000000\n",
       "availability_365                    0.000000\n",
       "number_of_reviews                   0.000000\n",
       "minimum_nights                      0.000000\n",
       "requires_license                    0.000000\n",
       "jurisdiction_names                  0.000000\n",
       "instant_bookable                    0.000000\n",
       "cancellation_policy                 0.000000\n",
       "require_guest_profile_picture       0.000000\n",
       "require_guest_phone_verification    0.000000\n",
       "maximum_nights                      0.000000\n",
       "extra_people                        0.000000\n",
       "neighbourhood_group_cleansed        0.000000\n",
       "calculated_host_listings_count      0.000000\n",
       "city                                0.000000\n",
       "state                               0.000000\n",
       "market                              0.000000\n",
       "smart_location                      0.000000\n",
       "country_code                        0.000000\n",
       "country                             0.000000\n",
       "longitude                           0.000000\n",
       "guests_included                     0.000000\n",
       "is_location_exact                   0.000000\n",
       "room_type                           0.000000\n",
       "accommodates                        0.000000\n",
       "bed_type                            0.000000\n",
       "amenities                           0.000000\n",
       "price                               0.000000\n",
       "id                                  0.000000\n",
       "Length: 92, dtype: float64"
      ]
     },
     "execution_count": 51,
     "metadata": {},
     "output_type": "execute_result"
    }
   ],
   "source": [
    "#check for missing values in the columns for each dataset, get percentages\n",
    "(listings.isnull().sum()/len(listings)).sort_values(ascending=False)"
   ]
  },
  {
   "cell_type": "markdown",
   "metadata": {},
   "source": [
    "For the listing dataset, it looks as though there are a number of columns containing missing values. The license column is completely null."
   ]
  },
  {
   "cell_type": "code",
   "execution_count": 52,
   "metadata": {},
   "outputs": [
    {
     "data": {
      "text/plain": [
       "price         0.32939\n",
       "available     0.00000\n",
       "date          0.00000\n",
       "listing_id    0.00000\n",
       "dtype: float64"
      ]
     },
     "execution_count": 52,
     "metadata": {},
     "output_type": "execute_result"
    }
   ],
   "source": [
    "(calendar.isnull().sum()/len(calendar)).sort_values(ascending=False)"
   ]
  },
  {
   "cell_type": "markdown",
   "metadata": {},
   "source": [
    "For the calendar dataset, the price column has 32% of rows containing null values."
   ]
  },
  {
   "cell_type": "code",
   "execution_count": 53,
   "metadata": {},
   "outputs": [
    {
     "data": {
      "text/plain": [
       "comments         0.000212\n",
       "reviewer_name    0.000000\n",
       "reviewer_id      0.000000\n",
       "date             0.000000\n",
       "id               0.000000\n",
       "listing_id       0.000000\n",
       "dtype: float64"
      ]
     },
     "execution_count": 53,
     "metadata": {},
     "output_type": "execute_result"
    }
   ],
   "source": [
    "(reviews.isnull().sum()/len(reviews)).sort_values(ascending=False)"
   ]
  },
  {
   "cell_type": "markdown",
   "metadata": {},
   "source": [
    "The reviews dataset has almost no missing values.\n",
    "\n",
    "In order to prepare the data for the 3 business questions, we need to look at the 3 datasets and determine which datasets and columns contained within them that are relevant to the question above.\n",
    "\n",
    "We have 3 datasets: listings, calendar and reviews. Based on our brief exploration above, we can see that the dataset most relevant to our analysis for this question is the listings dataset. The calendar dataset looks to be more relevant to supplement the listings dataset for our 2nd question on popular times and availability. \n",
    "\n",
    "Meanwhile, the reviews dataset is more relevant for qualitative predictors and is mainly unstructured data, hence we will only analyse it if we lack sufficient information to answer our questions.\n",
    "\n",
    "After determining the datasets that are relevant for answering our questions, we move to preparing the data for our analysis."
   ]
  },
  {
   "cell_type": "markdown",
   "metadata": {},
   "source": [
    "### Question 1: Can we predict what drives higher ratings?\n",
    "#### Part I: Data Preparation\n",
    "\n",
    "Seeing as there are many missing values in the license column, and it is not relevant to the questions above, we can drop it from our analysis dataset. "
   ]
  },
  {
   "cell_type": "code",
   "execution_count": 54,
   "metadata": {},
   "outputs": [],
   "source": [
    "#drop license column\n",
    "listings=listings.drop(columns=['license'])"
   ]
  },
  {
   "cell_type": "markdown",
   "metadata": {},
   "source": [
    "Next, we revisit the question, which is on driving higher ratings in homes. The relevant column that can be seen as the target variable (y column) would be in the set of review_scores columns. However, we can see that there are several columns in the review_scores."
   ]
  },
  {
   "cell_type": "code",
   "execution_count": 73,
   "metadata": {},
   "outputs": [
    {
     "data": {
      "text/plain": [
       "['review_scores_rating',\n",
       " 'review_scores_accuracy',\n",
       " 'review_scores_cleanliness',\n",
       " 'review_scores_checkin',\n",
       " 'review_scores_communication',\n",
       " 'review_scores_location',\n",
       " 'review_scores_value']"
      ]
     },
     "execution_count": 73,
     "metadata": {},
     "output_type": "execute_result"
    }
   ],
   "source": [
    "#check column names that begin with 'review_scores' \n",
    "[col for col in listings if col.startswith('review_scores_')]"
   ]
  },
  {
   "cell_type": "markdown",
   "metadata": {},
   "source": [
    "Based on AirBnB's ratings methodology (https://www.airbnb.com/help/article/1257/how-do-star-ratings-work), the overall experience is the one that determines the overall experience for guests, and so the review_scores_rating column is the one I would set as my target variable.  \n",
    "\n",
    "However, we need to revisit the other columns in the listings dataset. There are quite a few redundant columns that are unnecessary.\n",
    "\n",
    "For example, it is unnecessary to have columns that only contain one unique value as they don't provide any predictive power."
   ]
  },
  {
   "cell_type": "code",
   "execution_count": 119,
   "metadata": {},
   "outputs": [
    {
     "data": {
      "text/plain": [
       "['scrape_id',\n",
       " 'last_scraped',\n",
       " 'experiences_offered',\n",
       " 'market',\n",
       " 'country_code',\n",
       " 'country',\n",
       " 'has_availability',\n",
       " 'calendar_last_scraped',\n",
       " 'requires_license',\n",
       " 'jurisdiction_names']"
      ]
     },
     "execution_count": 119,
     "metadata": {},
     "output_type": "execute_result"
    }
   ],
   "source": [
    "#find columns in dataset that only contain one unique value\n",
    "one_unique=[col for col in listings.columns.values if listings[col].nunique()==1]\n",
    "one_unique"
   ]
  },
  {
   "cell_type": "markdown",
   "metadata": {},
   "source": [
    "Any columns that contain 'url' in the name are also irrelevant as they contain no predictive power or characteristics that lead to higher ratings for homes."
   ]
  },
  {
   "cell_type": "code",
   "execution_count": 120,
   "metadata": {},
   "outputs": [
    {
     "data": {
      "text/plain": [
       "['listing_url',\n",
       " 'thumbnail_url',\n",
       " 'medium_url',\n",
       " 'picture_url',\n",
       " 'xl_picture_url',\n",
       " 'host_url',\n",
       " 'host_thumbnail_url',\n",
       " 'host_picture_url']"
      ]
     },
     "execution_count": 120,
     "metadata": {},
     "output_type": "execute_result"
    }
   ],
   "source": [
    "#find columns containing 'url' in the name\n",
    "url_col=[col for col in listings.columns.values if 'url' in col]\n",
    "url_col"
   ]
  },
  {
   "cell_type": "code",
   "execution_count": 122,
   "metadata": {},
   "outputs": [
    {
     "data": {
      "text/plain": [
       "array(['id', 'listing_url', 'scrape_id', 'last_scraped', 'name',\n",
       "       'summary', 'space', 'description', 'experiences_offered',\n",
       "       'neighborhood_overview', 'notes', 'transit', 'thumbnail_url',\n",
       "       'medium_url', 'picture_url', 'xl_picture_url', 'host_id',\n",
       "       'host_url', 'host_name', 'host_since', 'host_location',\n",
       "       'host_about', 'host_response_time', 'host_response_rate',\n",
       "       'host_acceptance_rate', 'host_is_superhost', 'host_thumbnail_url',\n",
       "       'host_picture_url', 'host_neighbourhood', 'host_listings_count',\n",
       "       'host_total_listings_count', 'host_verifications',\n",
       "       'host_has_profile_pic', 'host_identity_verified', 'street',\n",
       "       'neighbourhood', 'neighbourhood_cleansed',\n",
       "       'neighbourhood_group_cleansed', 'city', 'state', 'zipcode',\n",
       "       'market', 'smart_location', 'country_code', 'country', 'latitude',\n",
       "       'longitude', 'is_location_exact', 'property_type', 'room_type',\n",
       "       'accommodates', 'bathrooms', 'bedrooms', 'beds', 'bed_type',\n",
       "       'amenities', 'square_feet', 'price', 'weekly_price',\n",
       "       'monthly_price', 'security_deposit', 'cleaning_fee',\n",
       "       'guests_included', 'extra_people', 'minimum_nights',\n",
       "       'maximum_nights', 'calendar_updated', 'has_availability',\n",
       "       'availability_30', 'availability_60', 'availability_90',\n",
       "       'availability_365', 'calendar_last_scraped', 'number_of_reviews',\n",
       "       'first_review', 'last_review', 'review_scores_rating',\n",
       "       'review_scores_accuracy', 'review_scores_cleanliness',\n",
       "       'review_scores_checkin', 'review_scores_communication',\n",
       "       'review_scores_location', 'review_scores_value',\n",
       "       'requires_license', 'jurisdiction_names', 'instant_bookable',\n",
       "       'cancellation_policy', 'require_guest_profile_picture',\n",
       "       'require_guest_phone_verification',\n",
       "       'calculated_host_listings_count', 'reviews_per_month'],\n",
       "      dtype=object)"
      ]
     },
     "execution_count": 122,
     "metadata": {},
     "output_type": "execute_result"
    }
   ],
   "source": [
    "listings.columns.values"
   ]
  },
  {
   "cell_type": "markdown",
   "metadata": {},
   "source": [
    "It also could be that columns like 'host_name' or 'host_about' are not particularly predictive of the rating as they are unstructured and not indicative of any characteristics of the home.\n",
    "\n",
    "There are also redundant details like 'longitude' and 'latitude', and "
   ]
  },
  {
   "cell_type": "code",
   "execution_count": 113,
   "metadata": {
    "collapsed": true
   },
   "outputs": [],
   "source": [
    "drop_cols=['listing_url','scrape_id','last_scraped','thumbnail_url',\n",
    "       'medium_url', 'picture_url', 'xl_picture_url', 'host_id',\n",
    "       'host_url', 'host_name','host_about','host_thumbnail_url',\n",
    "       'host_picture_url','country_code','latitude',\n",
    "       'longitude','latitude',\n",
    "       'longitude','requires_license', 'jurisdiction_names']"
   ]
  },
  {
   "cell_type": "code",
   "execution_count": null,
   "metadata": {
    "collapsed": true
   },
   "outputs": [],
   "source": []
  }
 ],
 "metadata": {
  "kernelspec": {
   "display_name": "Python [conda env:py36]",
   "language": "python",
   "name": "conda-env-py36-py"
  },
  "language_info": {
   "codemirror_mode": {
    "name": "ipython",
    "version": 3
   },
   "file_extension": ".py",
   "mimetype": "text/x-python",
   "name": "python",
   "nbconvert_exporter": "python",
   "pygments_lexer": "ipython3",
   "version": "3.6.5"
  }
 },
 "nbformat": 4,
 "nbformat_minor": 2
}
